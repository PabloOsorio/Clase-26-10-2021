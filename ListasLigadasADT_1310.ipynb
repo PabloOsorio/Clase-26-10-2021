{
  "nbformat": 4,
  "nbformat_minor": 0,
  "metadata": {
    "colab": {
      "name": "ListasLigadasADT_1310.ipynb",
      "provenance": [],
      "collapsed_sections": [],
      "authorship_tag": "ABX9TyOlj6cM/SWLXqQ6CZL+d9R1",
      "include_colab_link": true
    },
    "kernelspec": {
      "name": "python3",
      "display_name": "Python 3"
    },
    "language_info": {
      "name": "python"
    }
  },
  "cells": [
    {
      "cell_type": "markdown",
      "metadata": {
        "id": "view-in-github",
        "colab_type": "text"
      },
      "source": [
        "<a href=\"https://colab.research.google.com/github/PabloOsorio/Clase-26-10-2021/blob/main/ListasLigadasADT_1310.ipynb\" target=\"_parent\"><img src=\"https://colab.research.google.com/assets/colab-badge.svg\" alt=\"Open In Colab\"/></a>"
      ]
    },
    {
      "cell_type": "markdown",
      "metadata": {
        "id": "BbIqKK7v0qxG"
      },
      "source": [
        "#Ejercicios con la clase nodo\n",
        "-Crear un nodo\n",
        "  -imprimir el valor del nodo\n",
        "-Crear dos nodos\n",
        "  -imprimir el valor del nodo 1 \n",
        "  -imprimir el valor del segundo nodo\n",
        "  -transversal\n",
        "-Lo mismo pero con 4 nodos \n",
        "  -Insetar un nodo al ultimo o en medio de otros\n",
        "\n"
      ]
    },
    {
      "cell_type": "code",
      "metadata": {
        "id": "got3JFMo1NJ1"
      },
      "source": [
        "class Nodo:\n",
        "  def __init__(self , value, siguiente = None ):\n",
        "    self.data = value \n",
        "    self.next = siguiente"
      ],
      "execution_count": 2,
      "outputs": []
    },
    {
      "cell_type": "code",
      "metadata": {
        "colab": {
          "base_uri": "https://localhost:8080/"
        },
        "id": "9b9lZ-nN1uj9",
        "outputId": "0155d078-165e-4513-9911-581969c90b07"
      },
      "source": [
        "head = Nodo(10)\n",
        "#Asi creamos el primer nodo y el sigueinte es None \n",
        "print(head.data)#Es necesario este .data"
      ],
      "execution_count": 3,
      "outputs": [
        {
          "output_type": "stream",
          "name": "stdout",
          "text": [
            "10\n"
          ]
        }
      ]
    },
    {
      "cell_type": "code",
      "metadata": {
        "colab": {
          "base_uri": "https://localhost:8080/"
        },
        "id": "yhgK5EhE2erE",
        "outputId": "6df7d1ad-d765-4939-b6af-c4ee795aa4bf"
      },
      "source": [
        "head = Nodo(10)\n",
        "head.next = Nodo(20)\n",
        "print(f\"Primer Nodo {head.data} \")\n",
        "print(f\"Segundo Nodo {head.next.data} \")\n",
        "\n",
        "#Ahora haremos lo mismo pero mas eficaz\n",
        "\n",
        "head = Nodo(10, Nodo(20))#Te ahorras el head.next\n",
        "print(f\"Primer Nodo {head.data} \")\n",
        "print(f\"Segundo Nodo {head.next.data} \")\n",
        "\n",
        "#Transversal\n",
        "\n",
        "curr_node = head\n",
        "while curr_node != None:\n",
        "  print(f\"| {curr_node.data} |  --> \", end =\"\")\n",
        "  curr_node = curr_node.next"
      ],
      "execution_count": 4,
      "outputs": [
        {
          "output_type": "stream",
          "name": "stdout",
          "text": [
            "Primer Nodo 10 \n",
            "Segundo Nodo 20 \n",
            "Primer Nodo 10 \n",
            "Segundo Nodo 20 \n",
            "| 10 |  --> | 20 |  --> "
          ]
        }
      ]
    },
    {
      "cell_type": "code",
      "metadata": {
        "colab": {
          "base_uri": "https://localhost:8080/"
        },
        "id": "ZMizYEjo64d0",
        "outputId": "9b29922c-3a64-46b2-f97d-e06ab3eefad5"
      },
      "source": [
        "head = Nodo(10 , Nodo(20, Nodo(30, Nodo(40))))\n",
        "curr_node = head\n",
        "#Transversal\n",
        "while curr_node != None:\n",
        "  print(f\"| {curr_node.data} |  --> \", end =\"\")\n",
        "  curr_node = curr_node.next\n",
        "print(\"\")\n",
        "#Imprimir el primero\n",
        "print(head.data)\n",
        "#Imprimir el ultimo \n",
        "curr_node = head\n",
        "while curr_node.next != None:#Con esto te queda en el nodo y no en la parte ultima del nodo donde esta vacio, Te deja en el valor y no en la parte none del nodo\n",
        "  curr_node = curr_node.next\n",
        "print(curr_node.data)\n",
        "print(\".-.-.-.-.-.-.\")\n",
        "#Imprimir un nodo en especifico\n",
        "curr_node = head \n",
        "while curr_node.data != 20:\n",
        "  curr_node = curr_node.next\n",
        "print(curr_node.data)\n",
        "\n",
        "#Crear nodo 25 para meterlo entre dos nodos \n",
        "print(\"Agregando un valor entre otros nodos\")\n",
        "curr_node.next = Nodo(25, curr_node.next)\n",
        "while curr_node != None:\n",
        "  print(f\"| {curr_node.data} |  --> \", end =\"\")\n",
        "  curr_node = curr_node.next\n",
        "print(\"\")"
      ],
      "execution_count": 16,
      "outputs": [
        {
          "output_type": "stream",
          "name": "stdout",
          "text": [
            "| 10 |  --> | 20 |  --> | 30 |  --> | 40 |  --> \n",
            "10\n",
            "40\n",
            ".-.-.-.-.-.-.\n",
            "20\n",
            "Agregando un valor entre otros nodos\n",
            "| 20 |  --> | 25 |  --> | 30 |  --> | 40 |  --> \n"
          ]
        }
      ]
    },
    {
      "cell_type": "code",
      "metadata": {
        "id": "1_WHEPz1ZG9b"
      },
      "source": [
        "class Nodo:\n",
        "  def __init__(self,value,siguiente = None):\n",
        "    self.data= value\n",
        "    self.next= siguiente\n",
        "\n",
        "class LinkedList:\n",
        "  def __init__(self):\n",
        "    self.head = None\n",
        "\n",
        "  def is_empty (self):\n",
        "    return self.head == None\n",
        "\n",
        "  def get_tail(self):\n",
        "    if self.is_empty():\n",
        "      return None\n",
        "    else:\n",
        "      curr_node = self.head\n",
        "      while curr_node.next != None:\n",
        "        curr_node = curr_node.next\n",
        "      return curr_node\n",
        "\n",
        "  def append( self, value):\n",
        "    if self.head == None:\n",
        "        self.head = Nodo(value)\n",
        "    else:\n",
        "      curr_node = self.head\n",
        "      while curr_node.next != None:\n",
        "        curr_node = curr_node.next\n",
        "      curr_node.next = Nodo(value)\n",
        "\n",
        "  def transversal (self):\n",
        "    curr_node = self.head\n",
        "    while curr_node != None:\n",
        "      print(f\"| {curr_node.data} | -->\", end=\"\")\n",
        "      curr_node = curr_node.next\n",
        "    print (\"\")\n",
        "\n",
        "  def remove ( self , value):\n",
        "    if self.head == None:\n",
        "      print(\"Lista vacia, no se pudo remover nada\")\n",
        "    else:\n",
        "      curr_node = self.head\n",
        "      aux = None\n",
        "      while curr_node.data != value:\n",
        "        aux = curr_node\n",
        "        curr_node = curr_node.next\n",
        "        \n",
        "      if curr_node != None:\n",
        "        aux.next = curr_node.next\n",
        "        curr_node = None\n",
        "\n",
        "  def preppend ( self, value):\n",
        "    if self.head != None:\n",
        "      print(\"esta vacio\")\n",
        "    else:\n",
        "      aux = self.head\n",
        "      self.head = Nodo (value,aux)"
      ],
      "execution_count": 4,
      "outputs": []
    },
    {
      "cell_type": "code",
      "metadata": {
        "colab": {
          "base_uri": "https://localhost:8080/"
        },
        "id": "WAWmZv-Xfpnq",
        "outputId": "c975cc12-5156-4f29-bc3c-e72f619972f9"
      },
      "source": [
        "lista = LinkedList()\n",
        "\n",
        "if lista.is_empty:\n",
        "  print(\"La lista esta vacia\")\n",
        "else:\n",
        "  print(\"La lista no esta vacia\")\n",
        "\n",
        "lista.append(10)\n",
        "lista.append(20)\n",
        "lista.append(30)\n",
        "lista.append(40)\n",
        "nodo = lista.get_tail()\n",
        "if nodo != None:\n",
        "  print(nodo.data)\n",
        "else: \n",
        "  print(\"La lista esta vacia\")\n",
        "\n",
        "lista.transversal()\n",
        "lista.transversal()\n",
        "lista.preppend(6)\n",
        "lista.remove(40)"
      ],
      "execution_count": 5,
      "outputs": [
        {
          "output_type": "stream",
          "name": "stdout",
          "text": [
            "La lista esta vacia\n",
            "40\n",
            "| 10 | -->| 20 | -->| 30 | -->| 40 | -->\n",
            "| 10 | -->| 20 | -->| 30 | -->| 40 | -->\n",
            "esta vacio\n"
          ]
        }
      ]
    }
  ]
}